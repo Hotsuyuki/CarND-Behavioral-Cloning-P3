{
 "cells": [
  {
   "cell_type": "code",
   "execution_count": 6,
   "metadata": {},
   "outputs": [
    {
     "name": "stdout",
     "output_type": "stream",
     "text": [
      "Epoch 1/3\n",
      "6144/6429 [===========================>..] - ETA: 0s - loss: 0.3591"
     ]
    },
    {
     "name": "stderr",
     "output_type": "stream",
     "text": [
      "/home/carnd/anaconda3/envs/carnd-term1/lib/python3.5/site-packages/keras/engine/training.py:1569: UserWarning: Epoch comprised more than `samples_per_epoch` samples, which might affect learning results. Set `samples_per_epoch` correctly to avoid this warning.\n",
      "  warnings.warn('Epoch comprised more than '\n"
     ]
    },
    {
     "name": "stdout",
     "output_type": "stream",
     "text": [
      "6528/6429 [==============================] - 11s - loss: 0.3422 - val_loss: 0.0277\n",
      "Epoch 2/3\n",
      "6528/6429 [==============================] - 10s - loss: 0.0155 - val_loss: 0.0083\n",
      "Epoch 3/3\n",
      "6528/6429 [==============================] - 10s - loss: 0.0061 - val_loss: 0.0047\n"
     ]
    }
   ],
   "source": [
    "import csv\n",
    "import cv2\n",
    "import numpy as np\n",
    "\n",
    "\n",
    "lines = []\n",
    "with open('./data/driving_log.csv') as csvfile:\n",
    "#with open('./driving_log.csv') as csvfile:\n",
    "    reader = csv.reader(csvfile)\n",
    "    for line in reader:\n",
    "        lines.append(line)\n",
    "        \n",
    "from sklearn.utils import shuffle \n",
    "from sklearn.model_selection import train_test_split\n",
    "train_samples, validation_samples = train_test_split(lines, test_size=0.2)\n",
    "\n",
    "\n",
    "def generator(samples, batch_size):\n",
    "    num_samples = len(samples)\n",
    "    while 1: # Loop forever so the generator never terminates\n",
    "        shuffle(samples)\n",
    "        for offset in range(0, num_samples, batch_size):\n",
    "            batch_samples = samples[offset:offset+batch_size]\n",
    "\n",
    "            images = []\n",
    "            angles = []\n",
    "            for batch_sample in batch_samples:\n",
    "                # 0:center, 1:left, 2:right\n",
    "                for direction in range(3):\n",
    "                    # read the image\n",
    "                    name = './data/IMG/'+batch_sample[direction].split('/')[-1]\n",
    "                    #name = './IMG/'+batch_sample[direction].split('/')[-1]\n",
    "                    image = cv2.cvtColor(cv2.imread(name), cv2.COLOR_BGR2RGB)\n",
    "                    images.append(image)\n",
    "                    \n",
    "                    # read the angle\n",
    "                    correction = 0.1\n",
    "                    if (direction == 0): # center\n",
    "                        angle = float(line[3])\n",
    "                    elif (direction == 1): # left\n",
    "                        angle = float(line[3])-correction\n",
    "                    elif (direction == 2): # right\n",
    "                        angle = float(line[3])+correction\n",
    "                    angles.append(angle)\n",
    "                    \n",
    "                    # flip the image and angle\n",
    "                    image_flipped = np.fliplr(image)\n",
    "                    images.append(image_flipped)\n",
    "                    angle_flipped = -angle\n",
    "                    angles.append(angle_flipped)\n",
    "\n",
    "            X_train = np.array(images)\n",
    "            y_train = np.array(angles)\n",
    "            yield shuffle(X_train, y_train)\n",
    "\n",
    "# compile and train the model using the generator function\n",
    "BATCH_SIZE = 64\n",
    "train_generator = generator(train_samples, batch_size=BATCH_SIZE)\n",
    "validation_generator = generator(validation_samples, batch_size=BATCH_SIZE)\n",
    "\n",
    "\n",
    "from keras.models import Sequential\n",
    "from keras.layers import Flatten, Dense, Lambda, Cropping2D, Dropout\n",
    "from keras.layers.convolutional import Convolution2D\n",
    "from keras.layers.pooling import MaxPooling2D\n",
    "#from keras.backend import tf\n",
    "import tensorflow as tf\n",
    "\n",
    "model = Sequential()\n",
    "model.add(Lambda(lambda x: x/255.0-0.5, input_shape=(160,320,3))) # 160*320*3\n",
    "model.add(Cropping2D(cropping=((70,20), (10,10)))) # 70*300*3\n",
    "#model.add(Lambda(lambda x: tf.image.resize_images(x, (68, 204)))) # 68*204*3\n",
    "model.add(Lambda(lambda x: tf.image.resize_images(x, (68, 204)))) # 68*204*3\n",
    "model.add(Convolution2D(24,5,5, border_mode = 'valid', activation=\"elu\")) # 24@64*200\n",
    "model.add(MaxPooling2D(pool_size=(2,2))) # 24@32*100\n",
    "model.add(Convolution2D(36,5,5, border_mode = 'valid', activation=\"elu\")) # 36@28*96\n",
    "model.add(MaxPooling2D(pool_size=(2,2))) # 36@14*48\n",
    "model.add(Convolution2D(48,5,5, border_mode = 'valid', activation=\"elu\")) # 48@10*44\n",
    "model.add(MaxPooling2D(pool_size=(2,2))) # 48@5*22\n",
    "model.add(Convolution2D(64,3,3, border_mode = 'valid', activation=\"elu\")) # 64@3*20\n",
    "model.add(Convolution2D(64,3,3, border_mode = 'valid', activation=\"elu\")) # 64@1*18\n",
    "model.add(Flatten())\n",
    "model.add(Dropout(0.5))\n",
    "model.add(Dense(1164))\n",
    "model.add(Dense(100))\n",
    "model.add(Dense(50))\n",
    "model.add(Dense(10))\n",
    "model.add(Dense(1))\n",
    "model.compile(loss='mse', optimizer='adam')\n",
    "\n",
    "history_object = model.fit_generator(train_generator, samples_per_epoch= len(train_samples),\n",
    "                                     validation_data=validation_generator, nb_val_samples=len(validation_samples), \n",
    "                                     nb_epoch=3, verbose=1)\n",
    "\n",
    "model.save('model.h5')"
   ]
  },
  {
   "cell_type": "code",
   "execution_count": 7,
   "metadata": {},
   "outputs": [
    {
     "name": "stdout",
     "output_type": "stream",
     "text": [
      "dict_keys(['val_loss', 'loss'])\n"
     ]
    },
    {
     "data": {
      "image/png": "[encoded data removed]",
      "text/plain": [
       "<matplotlib.figure.Figure at 0x7f74421abb38>"
      ]
     },
     "metadata": {},
     "output_type": "display_data"
    }
   ],
   "source": [
    "import matplotlib.pyplot as plt\n",
    "\n",
    "\n",
    "# print the keys contained in the history object\n",
    "print(history_object.history.keys())\n",
    "\n",
    "# plot the training and validation loss for each epoch\n",
    "plt.plot(history_object.history['loss'])\n",
    "plt.plot(history_object.history['val_loss'])\n",
    "plt.title('model mean squared error loss')\n",
    "plt.ylabel('mean squared error loss')\n",
    "plt.xlabel('epoch')\n",
    "plt.legend(['training set', 'validation set'], loc='upper right')\n",
    "plt.show()"
   ]
  },
  {
   "cell_type": "code",
   "execution_count": null,
   "metadata": {
    "collapsed": true
   },
   "outputs": [],
   "source": []
  }
 ],
 "metadata": {
  "kernelspec": {
   "display_name": "Python 3",
   "language": "python",
   "name": "python3"
  },
  "language_info": {
   "codemirror_mode": {
    "name": "ipython",
    "version": 3
   },
   "file_extension": ".py",
   "mimetype": "text/x-python",
   "name": "python",
   "nbconvert_exporter": "python",
   "pygments_lexer": "ipython3",
   "version": "3.5.2"
  },
  "widgets": {
   "state": {},
   "version": "1.1.2"
  }
 },
 "nbformat": 4,
 "nbformat_minor": 2
}
